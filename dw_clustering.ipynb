{
 "cells": [
  {
   "cell_type": "code",
   "execution_count": 17,
   "metadata": {},
   "outputs": [],
   "source": [
    "import pandas as pd\n",
    "import numpy as np\n",
    "import seaborn as sns\n",
    "import matplotlib.pyplot as plt\n",
    "from sklearn.cluster import KMeans\n",
    "from sklearn import preprocessing\n",
    "from sklearn.metrics import silhouette_score\n",
    "from sklearn.cluster import DBSCAN"
   ]
  },
  {
   "cell_type": "code",
   "execution_count": 3,
   "metadata": {},
   "outputs": [
    {
     "data": {
      "text/html": [
       "<div>\n",
       "<style scoped>\n",
       "    .dataframe tbody tr th:only-of-type {\n",
       "        vertical-align: middle;\n",
       "    }\n",
       "\n",
       "    .dataframe tbody tr th {\n",
       "        vertical-align: top;\n",
       "    }\n",
       "\n",
       "    .dataframe thead th {\n",
       "        text-align: right;\n",
       "    }\n",
       "</style>\n",
       "<table border=\"1\" class=\"dataframe\">\n",
       "  <thead>\n",
       "    <tr style=\"text-align: right;\">\n",
       "      <th></th>\n",
       "      <th>member_number</th>\n",
       "      <th>membership_type</th>\n",
       "      <th>Years</th>\n",
       "      <th>Number_Family</th>\n",
       "      <th>Number_Children</th>\n",
       "      <th>Pool</th>\n",
       "      <th>Golf</th>\n",
       "      <th>Tennis</th>\n",
       "      <th>Dining</th>\n",
       "      <th>Other</th>\n",
       "      <th>PromoOne</th>\n",
       "      <th>PromoTwo</th>\n",
       "      <th>Private_Function</th>\n",
       "      <th>July_Fourth</th>\n",
       "      <th>Thanksgiving</th>\n",
       "      <th>Easter_Brunch</th>\n",
       "    </tr>\n",
       "  </thead>\n",
       "  <tbody>\n",
       "    <tr>\n",
       "      <th>0</th>\n",
       "      <td>102365</td>\n",
       "      <td>Family</td>\n",
       "      <td>13</td>\n",
       "      <td>3</td>\n",
       "      <td>1</td>\n",
       "      <td>3271.0</td>\n",
       "      <td>0.0</td>\n",
       "      <td>0.0</td>\n",
       "      <td>3312.05</td>\n",
       "      <td>2152.46</td>\n",
       "      <td>0</td>\n",
       "      <td>1</td>\n",
       "      <td>0</td>\n",
       "      <td>1</td>\n",
       "      <td>1</td>\n",
       "      <td>0</td>\n",
       "    </tr>\n",
       "    <tr>\n",
       "      <th>1</th>\n",
       "      <td>105078</td>\n",
       "      <td>Family</td>\n",
       "      <td>17</td>\n",
       "      <td>2</td>\n",
       "      <td>0</td>\n",
       "      <td>3343.0</td>\n",
       "      <td>0.0</td>\n",
       "      <td>0.0</td>\n",
       "      <td>4728.73</td>\n",
       "      <td>0.00</td>\n",
       "      <td>1</td>\n",
       "      <td>0</td>\n",
       "      <td>0</td>\n",
       "      <td>0</td>\n",
       "      <td>1</td>\n",
       "      <td>0</td>\n",
       "    </tr>\n",
       "    <tr>\n",
       "      <th>2</th>\n",
       "      <td>106225</td>\n",
       "      <td>Family</td>\n",
       "      <td>24</td>\n",
       "      <td>6</td>\n",
       "      <td>5</td>\n",
       "      <td>0.0</td>\n",
       "      <td>0.0</td>\n",
       "      <td>0.0</td>\n",
       "      <td>1239.06</td>\n",
       "      <td>0.00</td>\n",
       "      <td>0</td>\n",
       "      <td>0</td>\n",
       "      <td>1</td>\n",
       "      <td>1</td>\n",
       "      <td>0</td>\n",
       "      <td>0</td>\n",
       "    </tr>\n",
       "    <tr>\n",
       "      <th>3</th>\n",
       "      <td>109320</td>\n",
       "      <td>Individual</td>\n",
       "      <td>27</td>\n",
       "      <td>1</td>\n",
       "      <td>0</td>\n",
       "      <td>0.0</td>\n",
       "      <td>0.0</td>\n",
       "      <td>0.0</td>\n",
       "      <td>5424.58</td>\n",
       "      <td>0.00</td>\n",
       "      <td>1</td>\n",
       "      <td>0</td>\n",
       "      <td>0</td>\n",
       "      <td>0</td>\n",
       "      <td>0</td>\n",
       "      <td>1</td>\n",
       "    </tr>\n",
       "    <tr>\n",
       "      <th>4</th>\n",
       "      <td>112823</td>\n",
       "      <td>Family</td>\n",
       "      <td>9</td>\n",
       "      <td>4</td>\n",
       "      <td>2</td>\n",
       "      <td>6088.0</td>\n",
       "      <td>0.0</td>\n",
       "      <td>0.0</td>\n",
       "      <td>1421.67</td>\n",
       "      <td>4661.68</td>\n",
       "      <td>0</td>\n",
       "      <td>1</td>\n",
       "      <td>0</td>\n",
       "      <td>0</td>\n",
       "      <td>1</td>\n",
       "      <td>0</td>\n",
       "    </tr>\n",
       "  </tbody>\n",
       "</table>\n",
       "</div>"
      ],
      "text/plain": [
       "   member_number membership_type  Years  Number_Family  Number_Children  \\\n",
       "0         102365          Family     13              3                1   \n",
       "1         105078          Family     17              2                0   \n",
       "2         106225          Family     24              6                5   \n",
       "3         109320      Individual     27              1                0   \n",
       "4         112823          Family      9              4                2   \n",
       "\n",
       "     Pool  Golf  Tennis   Dining    Other  PromoOne  PromoTwo  \\\n",
       "0  3271.0   0.0     0.0  3312.05  2152.46         0         1   \n",
       "1  3343.0   0.0     0.0  4728.73     0.00         1         0   \n",
       "2     0.0   0.0     0.0  1239.06     0.00         0         0   \n",
       "3     0.0   0.0     0.0  5424.58     0.00         1         0   \n",
       "4  6088.0   0.0     0.0  1421.67  4661.68         0         1   \n",
       "\n",
       "   Private_Function  July_Fourth  Thanksgiving  Easter_Brunch  \n",
       "0                 0            1             1              0  \n",
       "1                 0            0             1              0  \n",
       "2                 1            1             0              0  \n",
       "3                 0            0             0              1  \n",
       "4                 0            0             1              0  "
      ]
     },
     "execution_count": 3,
     "metadata": {},
     "output_type": "execute_result"
    }
   ],
   "source": [
    "dw = pd.read_csv(r'~\\data_warehouse.csv')\n",
    "dw.head()"
   ]
  },
  {
   "cell_type": "code",
   "execution_count": 10,
   "metadata": {},
   "outputs": [],
   "source": [
    "ready2 = dw.drop('member_number', axis = 1)\n",
    "ready = pd.get_dummies(ready2)"
   ]
  },
  {
   "cell_type": "code",
   "execution_count": 11,
   "metadata": {},
   "outputs": [
    {
     "data": {
      "text/html": [
       "<div>\n",
       "<style scoped>\n",
       "    .dataframe tbody tr th:only-of-type {\n",
       "        vertical-align: middle;\n",
       "    }\n",
       "\n",
       "    .dataframe tbody tr th {\n",
       "        vertical-align: top;\n",
       "    }\n",
       "\n",
       "    .dataframe thead th {\n",
       "        text-align: right;\n",
       "    }\n",
       "</style>\n",
       "<table border=\"1\" class=\"dataframe\">\n",
       "  <thead>\n",
       "    <tr style=\"text-align: right;\">\n",
       "      <th></th>\n",
       "      <th>Years</th>\n",
       "      <th>Number_Family</th>\n",
       "      <th>Number_Children</th>\n",
       "      <th>Pool</th>\n",
       "      <th>Golf</th>\n",
       "      <th>Tennis</th>\n",
       "      <th>Dining</th>\n",
       "      <th>Other</th>\n",
       "      <th>PromoOne</th>\n",
       "      <th>PromoTwo</th>\n",
       "      <th>Private_Function</th>\n",
       "      <th>July_Fourth</th>\n",
       "      <th>Thanksgiving</th>\n",
       "      <th>Easter_Brunch</th>\n",
       "      <th>membership_type_Couple</th>\n",
       "      <th>membership_type_Family</th>\n",
       "      <th>membership_type_Individual</th>\n",
       "      <th>membership_type_Retiree</th>\n",
       "    </tr>\n",
       "  </thead>\n",
       "  <tbody>\n",
       "    <tr>\n",
       "      <th>0</th>\n",
       "      <td>13</td>\n",
       "      <td>3</td>\n",
       "      <td>1</td>\n",
       "      <td>3271.0</td>\n",
       "      <td>0.0</td>\n",
       "      <td>0.0</td>\n",
       "      <td>3312.05</td>\n",
       "      <td>2152.46</td>\n",
       "      <td>0</td>\n",
       "      <td>1</td>\n",
       "      <td>0</td>\n",
       "      <td>1</td>\n",
       "      <td>1</td>\n",
       "      <td>0</td>\n",
       "      <td>0</td>\n",
       "      <td>1</td>\n",
       "      <td>0</td>\n",
       "      <td>0</td>\n",
       "    </tr>\n",
       "    <tr>\n",
       "      <th>1</th>\n",
       "      <td>17</td>\n",
       "      <td>2</td>\n",
       "      <td>0</td>\n",
       "      <td>3343.0</td>\n",
       "      <td>0.0</td>\n",
       "      <td>0.0</td>\n",
       "      <td>4728.73</td>\n",
       "      <td>0.00</td>\n",
       "      <td>1</td>\n",
       "      <td>0</td>\n",
       "      <td>0</td>\n",
       "      <td>0</td>\n",
       "      <td>1</td>\n",
       "      <td>0</td>\n",
       "      <td>0</td>\n",
       "      <td>1</td>\n",
       "      <td>0</td>\n",
       "      <td>0</td>\n",
       "    </tr>\n",
       "    <tr>\n",
       "      <th>2</th>\n",
       "      <td>24</td>\n",
       "      <td>6</td>\n",
       "      <td>5</td>\n",
       "      <td>0.0</td>\n",
       "      <td>0.0</td>\n",
       "      <td>0.0</td>\n",
       "      <td>1239.06</td>\n",
       "      <td>0.00</td>\n",
       "      <td>0</td>\n",
       "      <td>0</td>\n",
       "      <td>1</td>\n",
       "      <td>1</td>\n",
       "      <td>0</td>\n",
       "      <td>0</td>\n",
       "      <td>0</td>\n",
       "      <td>1</td>\n",
       "      <td>0</td>\n",
       "      <td>0</td>\n",
       "    </tr>\n",
       "    <tr>\n",
       "      <th>3</th>\n",
       "      <td>27</td>\n",
       "      <td>1</td>\n",
       "      <td>0</td>\n",
       "      <td>0.0</td>\n",
       "      <td>0.0</td>\n",
       "      <td>0.0</td>\n",
       "      <td>5424.58</td>\n",
       "      <td>0.00</td>\n",
       "      <td>1</td>\n",
       "      <td>0</td>\n",
       "      <td>0</td>\n",
       "      <td>0</td>\n",
       "      <td>0</td>\n",
       "      <td>1</td>\n",
       "      <td>0</td>\n",
       "      <td>0</td>\n",
       "      <td>1</td>\n",
       "      <td>0</td>\n",
       "    </tr>\n",
       "    <tr>\n",
       "      <th>4</th>\n",
       "      <td>9</td>\n",
       "      <td>4</td>\n",
       "      <td>2</td>\n",
       "      <td>6088.0</td>\n",
       "      <td>0.0</td>\n",
       "      <td>0.0</td>\n",
       "      <td>1421.67</td>\n",
       "      <td>4661.68</td>\n",
       "      <td>0</td>\n",
       "      <td>1</td>\n",
       "      <td>0</td>\n",
       "      <td>0</td>\n",
       "      <td>1</td>\n",
       "      <td>0</td>\n",
       "      <td>0</td>\n",
       "      <td>1</td>\n",
       "      <td>0</td>\n",
       "      <td>0</td>\n",
       "    </tr>\n",
       "  </tbody>\n",
       "</table>\n",
       "</div>"
      ],
      "text/plain": [
       "   Years  Number_Family  Number_Children    Pool  Golf  Tennis   Dining  \\\n",
       "0     13              3                1  3271.0   0.0     0.0  3312.05   \n",
       "1     17              2                0  3343.0   0.0     0.0  4728.73   \n",
       "2     24              6                5     0.0   0.0     0.0  1239.06   \n",
       "3     27              1                0     0.0   0.0     0.0  5424.58   \n",
       "4      9              4                2  6088.0   0.0     0.0  1421.67   \n",
       "\n",
       "     Other  PromoOne  PromoTwo  Private_Function  July_Fourth  Thanksgiving  \\\n",
       "0  2152.46         0         1                 0            1             1   \n",
       "1     0.00         1         0                 0            0             1   \n",
       "2     0.00         0         0                 1            1             0   \n",
       "3     0.00         1         0                 0            0             0   \n",
       "4  4661.68         0         1                 0            0             1   \n",
       "\n",
       "   Easter_Brunch  membership_type_Couple  membership_type_Family  \\\n",
       "0              0                       0                       1   \n",
       "1              0                       0                       1   \n",
       "2              0                       0                       1   \n",
       "3              1                       0                       0   \n",
       "4              0                       0                       1   \n",
       "\n",
       "   membership_type_Individual  membership_type_Retiree  \n",
       "0                           0                        0  \n",
       "1                           0                        0  \n",
       "2                           0                        0  \n",
       "3                           1                        0  \n",
       "4                           0                        0  "
      ]
     },
     "execution_count": 11,
     "metadata": {},
     "output_type": "execute_result"
    }
   ],
   "source": [
    "ready.head()"
   ]
  },
  {
   "cell_type": "markdown",
   "metadata": {},
   "source": [
    "## K-means"
   ]
  },
  {
   "cell_type": "code",
   "execution_count": 15,
   "metadata": {},
   "outputs": [
    {
     "data": {
      "text/plain": [
       "Text(0.5,1,'Inertia of k-Means versus number of clusters')"
      ]
     },
     "execution_count": 15,
     "metadata": {},
     "output_type": "execute_result"
    },
    {
     "data": {
      "image/png": "[encoded data removed]",
      "text/plain": [
       "<Figure size 432x288 with 1 Axes>"
      ]
     },
     "metadata": {
      "needs_background": "light"
     },
     "output_type": "display_data"
    }
   ],
   "source": [
    "scores = [KMeans(n_clusters=i+2).fit(ready).inertia_ \n",
    "          for i in range(10)]\n",
    "sns.lineplot(np.arange(2, 12), scores)\n",
    "plt.xlabel('Number of clusters')\n",
    "plt.ylabel(\"Inertia\")\n",
    "plt.title(\"Inertia of k-Means versus number of clusters\")"
   ]
  },
  {
   "cell_type": "markdown",
   "metadata": {},
   "source": [
    "## K-means Clustering - Cosine distance"
   ]
  },
  {
   "cell_type": "code",
   "execution_count": 12,
   "metadata": {},
   "outputs": [
    {
     "data": {
      "text/plain": [
       "Text(0.5,1,'Inertia of Cosine k-Means versus number of clusters')"
      ]
     },
     "execution_count": 12,
     "metadata": {},
     "output_type": "execute_result"
    },
    {
     "data": {
      "image/png": "[encoded data removed]",
      "text/plain": [
       "<Figure size 432x288 with 1 Axes>"
      ]
     },
     "metadata": {
      "needs_background": "light"
     },
     "output_type": "display_data"
    }
   ],
   "source": [
    "normalized_vectors = preprocessing.normalize(ready)\n",
    "scores = [KMeans(n_clusters=i+2).fit(normalized_vectors).inertia_ for i in range(10)]\n",
    "sns.lineplot(np.arange(2, 12), scores)\n",
    "plt.xlabel('Number of clusters')\n",
    "plt.ylabel(\"Inertia\")\n",
    "plt.title(\"Inertia of Cosine k-Means versus number of clusters\")"
   ]
  },
  {
   "cell_type": "markdown",
   "metadata": {},
   "source": [
    "## DBSCAN - Density-Based Spatial Clustering of Applications with Noise"
   ]
  },
  {
   "cell_type": "markdown",
   "metadata": {},
   "source": [
    "## Evaluating Clusters"
   ]
  },
  {
   "cell_type": "markdown",
   "metadata": {},
   "source": [
    "The Silhouette score measures the separability between clusters based on the distances between and within clusters. It calculates the mean intra-cluster distance (a), which is the mean distance within a cluster, and the mean nearest-cluster distance (b), which is the distance between a sample and the nearest cluster it is not a part of, for each sample. Then, the Silhouette coefficient for a sample is (b - a) / max(a, b)."
   ]
  },
  {
   "cell_type": "code",
   "execution_count": 24,
   "metadata": {},
   "outputs": [
    {
     "name": "stdout",
     "output_type": "stream",
     "text": [
      "kmeans: 0.25077566488023484\n",
      "Cosine kmeans:0.5512982260531342\n"
     ]
    }
   ],
   "source": [
    "# Prepare models\n",
    "kmeans = KMeans(n_clusters=4).fit(ready)\n",
    "normalized_vectors = preprocessing.normalize(ready)\n",
    "normalized_kmeans = KMeans(n_clusters=4).fit(normalized_vectors)\n",
    "\n",
    "# dbscan = DBSCAN(eps=3.5, min_samples=17).fit(ready)\n",
    "\n",
    "# Print results\n",
    "# Print results\n",
    "print('kmeans: {}'.format(silhouette_score(ready, kmeans.labels_, \n",
    "                                           metric='euclidean')))\n",
    "print('Cosine kmeans:{}'.format(silhouette_score(normalized_vectors,\n",
    "                                          normalized_kmeans.labels_,\n",
    "                                          metric='cosine')))\n",
    "#print('DBSCAN: {}'.format(silhouette_score(ready, dbscan.labels_, \n",
    "#                                           metric='cosine')))"
   ]
  },
  {
   "cell_type": "markdown",
   "metadata": {},
   "source": [
    "The cosine-based k-Means outperforms k-Means due to the amount of feature (18) that we have in the data."
   ]
  },
  {
   "cell_type": "markdown",
   "metadata": {},
   "source": [
    "## Visualizing Clusters"
   ]
  },
  {
   "cell_type": "markdown",
   "metadata": {},
   "source": [
    "### Principal Component Analysis (PCA)"
   ]
  },
  {
   "cell_type": "code",
   "execution_count": 30,
   "metadata": {},
   "outputs": [],
   "source": [
    "# Dimensionality reduction\n",
    "from sklearn.manifold import TSNE\n",
    "from sklearn.decomposition import PCA\n",
    "\n",
    "# Visualization\n",
    "import seaborn as sns\n",
    "import matplotlib.pyplot as plt\n",
    "import mpl_toolkits.mplot3d.axes3d as p3\n",
    "from matplotlib import animation\n",
    "\n",
    "%matplotlib inline "
   ]
  },
  {
   "cell_type": "code",
   "execution_count": 31,
   "metadata": {},
   "outputs": [],
   "source": [
    "def plot_tsne(tnse_data, kmeans_labels):\n",
    "    df_tsne = pd.DataFrame(tsne_data).rename({0: 'x', 1: 'y'}, axis=1)\n",
    "    df_tsne['z'] = kmeans_labels\n",
    "    sns.scatterplot(x=df_tsne.x, y=df_tsne.y, hue=df_tsne.z, palette=\"Set2\")\n",
    "    plt.show()\n",
    "    \n",
    "def prepare_pca(n_components, data, kmeans_labels):\n",
    "    names = ['x', 'y', 'z']\n",
    "    matrix = PCA(n_components=n_components).fit_transform(data)\n",
    "    df_matrix = pd.DataFrame(matrix)\n",
    "    df_matrix.rename({i:names[i] for i in range(n_components)}, axis=1, inplace=True)\n",
    "    df_matrix['labels'] = kmeans_labels\n",
    "    \n",
    "    return df_matrix\n",
    "\n",
    "def prepare_tsne(n_components, data, kmeans_labels):\n",
    "    names = ['x', 'y', 'z']\n",
    "    matrix = TSNE(n_components=n_components).fit_transform(data)\n",
    "    df_matrix = pd.DataFrame(matrix)\n",
    "    df_matrix.rename({i:names[i] for i in range(n_components)}, axis=1, inplace=True)\n",
    "    df_matrix['labels'] = kmeans_labels\n",
    "    \n",
    "    return df_matrix\n"
   ]
  },
  {
   "cell_type": "code",
   "execution_count": 32,
   "metadata": {},
   "outputs": [
    {
     "data": {
      "text/plain": [
       "<matplotlib.axes._subplots.AxesSubplot at 0x1a3dde79128>"
      ]
     },
     "execution_count": 32,
     "metadata": {},
     "output_type": "execute_result"
    },
    {
     "data": {
      "image/png": "[encoded data removed]",
      "text/plain": [
       "<Figure size 432x288 with 1 Axes>"
      ]
     },
     "metadata": {
      "needs_background": "light"
     },
     "output_type": "display_data"
    }
   ],
   "source": [
    "pca_df = prepare_pca(2, ready, normalized_kmeans.labels_)\n",
    "sns.scatterplot(x=pca_df.x, y=pca_df.y, hue=pca_df.labels, \n",
    "                palette=\"Set2\")"
   ]
  },
  {
   "cell_type": "code",
   "execution_count": 51,
   "metadata": {},
   "outputs": [],
   "source": [
    "tsne_df = prepare_tsne(2, ready, normalized_kmeans.labels_)\n",
    "# plot_tsne(tsne_df, normalized_kmeans.labels_)"
   ]
  },
  {
   "cell_type": "markdown",
   "metadata": {},
   "source": [
    "## Interpreting Clusters"
   ]
  },
  {
   "cell_type": "code",
   "execution_count": 36,
   "metadata": {},
   "outputs": [],
   "source": [
    "from sklearn.preprocessing import MinMaxScaler"
   ]
  },
  {
   "cell_type": "code",
   "execution_count": 41,
   "metadata": {},
   "outputs": [
    {
     "name": "stderr",
     "output_type": "stream",
     "text": [
      "C:\\Users\\siyue\\Anaconda3\\lib\\site-packages\\sklearn\\preprocessing\\data.py:323: DataConversionWarning: Data with input dtype uint8, int64, float64 were all converted to float64 by MinMaxScaler.\n",
      "  return self.partial_fit(X, y)\n"
     ]
    }
   ],
   "source": [
    "# Setting all variables between 0 and 1 in order to better visualize the results\n",
    "scaler = MinMaxScaler()\n",
    "df_scaled = pd.DataFrame(scaler.fit_transform(ready))\n",
    "df_scaled.columns = ready.columns\n",
    "df_scaled['normalized_kmeans'] = normalized_kmeans.labels_"
   ]
  },
  {
   "cell_type": "code",
   "execution_count": 42,
   "metadata": {},
   "outputs": [],
   "source": [
    "df = ready.copy()"
   ]
  },
  {
   "cell_type": "code",
   "execution_count": 50,
   "metadata": {},
   "outputs": [
    {
     "name": "stderr",
     "output_type": "stream",
     "text": [
      "C:\\Users\\siyue\\Anaconda3\\lib\\site-packages\\scipy\\stats\\stats.py:1713: FutureWarning: Using a non-tuple sequence for multidimensional indexing is deprecated; use `arr[tuple(seq)]` instead of `arr[seq]`. In the future this will be interpreted as an array index, `arr[np.array(seq)]`, which will result either in an error or a different result.\n",
      "  return np.add.reduce(sorted[indexer] * weights, axis=axis) / sumval\n"
     ]
    },
    {
     "data": {
      "text/plain": [
       "<matplotlib.legend.Legend at 0x1a3de7848d0>"
      ]
     },
     "execution_count": 50,
     "metadata": {},
     "output_type": "execute_result"
    },
    {
     "data": {
      "image/png": "[encoded data removed]",
      "text/plain": [
       "<Figure size 1080x360 with 1 Axes>"
      ]
     },
     "metadata": {
      "needs_background": "light"
     },
     "output_type": "display_data"
    }
   ],
   "source": [
    "# df = load_preprocess_data()\n",
    "df['normalized_kmeans'] = normalized_kmeans.labels_\n",
    "tidy = df_scaled.melt(id_vars='normalized_kmeans')\n",
    "fig, ax = plt.subplots(figsize=(15, 5))\n",
    "sns.barplot(x='normalized_kmeans', y='value', hue='variable', data=tidy, palette='Set3')\n",
    "plt.legend(loc='upper right')\n",
    "# plt.savefig(\"mess.jpg\", dpi=300)\n",
    "# plt.savefig(\"dbscan_mess.jpg\", dpi=300)"
   ]
  },
  {
   "cell_type": "markdown",
   "metadata": {},
   "source": [
    "The problem with this approach is that we simply have too many variables. Not all of them are likely to be important when creating the clusters. Instead, I will select the most important columns based on the following approac"
   ]
  },
  {
   "cell_type": "markdown",
   "metadata": {},
   "source": [
    "### Variance"
   ]
  },
  {
   "cell_type": "markdown",
   "metadata": {},
   "source": [
    "What I essentially do is group datapoints by cluster and take the average. Then, I calculate the standard deviation between those values for each variable. Variables with a high standard deviation indicate that there are large differences between clusters and that the variable might be important."
   ]
  },
  {
   "cell_type": "code",
   "execution_count": 44,
   "metadata": {},
   "outputs": [
    {
     "data": {
      "text/html": [
       "<div>\n",
       "<style scoped>\n",
       "    .dataframe tbody tr th:only-of-type {\n",
       "        vertical-align: middle;\n",
       "    }\n",
       "\n",
       "    .dataframe tbody tr th {\n",
       "        vertical-align: top;\n",
       "    }\n",
       "\n",
       "    .dataframe thead th {\n",
       "        text-align: right;\n",
       "    }\n",
       "</style>\n",
       "<table border=\"1\" class=\"dataframe\">\n",
       "  <thead>\n",
       "    <tr style=\"text-align: right;\">\n",
       "      <th></th>\n",
       "      <th>normalized_kmeans</th>\n",
       "      <th>Years</th>\n",
       "      <th>Number_Family</th>\n",
       "      <th>Number_Children</th>\n",
       "      <th>Pool</th>\n",
       "      <th>Golf</th>\n",
       "      <th>Tennis</th>\n",
       "      <th>Dining</th>\n",
       "      <th>Other</th>\n",
       "      <th>PromoOne</th>\n",
       "      <th>PromoTwo</th>\n",
       "      <th>Private_Function</th>\n",
       "      <th>July_Fourth</th>\n",
       "      <th>Thanksgiving</th>\n",
       "      <th>Easter_Brunch</th>\n",
       "      <th>membership_type_Couple</th>\n",
       "      <th>membership_type_Family</th>\n",
       "      <th>membership_type_Individual</th>\n",
       "      <th>membership_type_Retiree</th>\n",
       "    </tr>\n",
       "  </thead>\n",
       "  <tbody>\n",
       "    <tr>\n",
       "      <th>0</th>\n",
       "      <td>0</td>\n",
       "      <td>0.304714</td>\n",
       "      <td>0.412839</td>\n",
       "      <td>0.276207</td>\n",
       "      <td>0.422280</td>\n",
       "      <td>0.013888</td>\n",
       "      <td>0.083792</td>\n",
       "      <td>0.215505</td>\n",
       "      <td>0.119185</td>\n",
       "      <td>0.123675</td>\n",
       "      <td>0.265018</td>\n",
       "      <td>0.494700</td>\n",
       "      <td>0.791519</td>\n",
       "      <td>0.498233</td>\n",
       "      <td>0.533569</td>\n",
       "      <td>0.091873</td>\n",
       "      <td>0.862191</td>\n",
       "      <td>0.042403</td>\n",
       "      <td>0.003534</td>\n",
       "    </tr>\n",
       "    <tr>\n",
       "      <th>1</th>\n",
       "      <td>1</td>\n",
       "      <td>0.444345</td>\n",
       "      <td>0.407895</td>\n",
       "      <td>0.279825</td>\n",
       "      <td>0.129486</td>\n",
       "      <td>0.018111</td>\n",
       "      <td>0.082371</td>\n",
       "      <td>0.208536</td>\n",
       "      <td>0.458963</td>\n",
       "      <td>0.147368</td>\n",
       "      <td>0.821053</td>\n",
       "      <td>0.410526</td>\n",
       "      <td>0.636842</td>\n",
       "      <td>0.405263</td>\n",
       "      <td>0.505263</td>\n",
       "      <td>0.089474</td>\n",
       "      <td>0.752632</td>\n",
       "      <td>0.110526</td>\n",
       "      <td>0.047368</td>\n",
       "    </tr>\n",
       "    <tr>\n",
       "      <th>2</th>\n",
       "      <td>2</td>\n",
       "      <td>0.383299</td>\n",
       "      <td>0.078321</td>\n",
       "      <td>0.018170</td>\n",
       "      <td>0.083039</td>\n",
       "      <td>0.307113</td>\n",
       "      <td>0.463287</td>\n",
       "      <td>0.299742</td>\n",
       "      <td>0.085187</td>\n",
       "      <td>0.402256</td>\n",
       "      <td>0.086466</td>\n",
       "      <td>0.293233</td>\n",
       "      <td>0.394737</td>\n",
       "      <td>0.342105</td>\n",
       "      <td>0.439850</td>\n",
       "      <td>0.176692</td>\n",
       "      <td>0.101504</td>\n",
       "      <td>0.522556</td>\n",
       "      <td>0.199248</td>\n",
       "    </tr>\n",
       "    <tr>\n",
       "      <th>3</th>\n",
       "      <td>3</td>\n",
       "      <td>0.364962</td>\n",
       "      <td>0.242199</td>\n",
       "      <td>0.137234</td>\n",
       "      <td>0.114840</td>\n",
       "      <td>0.029738</td>\n",
       "      <td>0.091828</td>\n",
       "      <td>0.447225</td>\n",
       "      <td>0.084780</td>\n",
       "      <td>0.542553</td>\n",
       "      <td>0.127660</td>\n",
       "      <td>0.348936</td>\n",
       "      <td>0.602128</td>\n",
       "      <td>0.338298</td>\n",
       "      <td>0.482979</td>\n",
       "      <td>0.278723</td>\n",
       "      <td>0.395745</td>\n",
       "      <td>0.268085</td>\n",
       "      <td>0.057447</td>\n",
       "    </tr>\n",
       "  </tbody>\n",
       "</table>\n",
       "</div>"
      ],
      "text/plain": [
       "   normalized_kmeans     Years  Number_Family  Number_Children      Pool  \\\n",
       "0                  0  0.304714       0.412839         0.276207  0.422280   \n",
       "1                  1  0.444345       0.407895         0.279825  0.129486   \n",
       "2                  2  0.383299       0.078321         0.018170  0.083039   \n",
       "3                  3  0.364962       0.242199         0.137234  0.114840   \n",
       "\n",
       "       Golf    Tennis    Dining     Other  PromoOne  PromoTwo  \\\n",
       "0  0.013888  0.083792  0.215505  0.119185  0.123675  0.265018   \n",
       "1  0.018111  0.082371  0.208536  0.458963  0.147368  0.821053   \n",
       "2  0.307113  0.463287  0.299742  0.085187  0.402256  0.086466   \n",
       "3  0.029738  0.091828  0.447225  0.084780  0.542553  0.127660   \n",
       "\n",
       "   Private_Function  July_Fourth  Thanksgiving  Easter_Brunch  \\\n",
       "0          0.494700     0.791519      0.498233       0.533569   \n",
       "1          0.410526     0.636842      0.405263       0.505263   \n",
       "2          0.293233     0.394737      0.342105       0.439850   \n",
       "3          0.348936     0.602128      0.338298       0.482979   \n",
       "\n",
       "   membership_type_Couple  membership_type_Family  membership_type_Individual  \\\n",
       "0                0.091873                0.862191                    0.042403   \n",
       "1                0.089474                0.752632                    0.110526   \n",
       "2                0.176692                0.101504                    0.522556   \n",
       "3                0.278723                0.395745                    0.268085   \n",
       "\n",
       "   membership_type_Retiree  \n",
       "0                 0.003534  \n",
       "1                 0.047368  \n",
       "2                 0.199248  \n",
       "3                 0.057447  "
      ]
     },
     "execution_count": 44,
     "metadata": {},
     "output_type": "execute_result"
    }
   ],
   "source": [
    "df_mean = df_scaled.loc[df_scaled.normalized_kmeans!=-1, :].groupby('normalized_kmeans').mean().reset_index()\n",
    "df_mean"
   ]
  },
  {
   "cell_type": "code",
   "execution_count": 45,
   "metadata": {},
   "outputs": [
    {
     "name": "stderr",
     "output_type": "stream",
     "text": [
      "C:\\Users\\siyue\\Anaconda3\\lib\\site-packages\\scipy\\stats\\stats.py:1713: FutureWarning: Using a non-tuple sequence for multidimensional indexing is deprecated; use `arr[tuple(seq)]` instead of `arr[seq]`. In the future this will be interpreted as an array index, `arr[np.array(seq)]`, which will result either in an error or a different result.\n",
      "  return np.add.reduce(sorted[indexer] * weights, axis=axis) / sumval\n"
     ]
    },
    {
     "data": {
      "text/plain": [
       "<matplotlib.legend.Legend at 0x1a3de5d5f28>"
      ]
     },
     "execution_count": 45,
     "metadata": {},
     "output_type": "execute_result"
    },
    {
     "data": {
      "image/png": "[encoded data removed]",
      "text/plain": [
       "<Figure size 1080x360 with 1 Axes>"
      ]
     },
     "metadata": {
      "needs_background": "light"
     },
     "output_type": "display_data"
    }
   ],
   "source": [
    "# Calculate variables with largest differences (by standard deviation)\n",
    "# The higher the standard deviation in a variable based on average values for each cluster\n",
    "# The more likely that the variable is important when creating the cluster\n",
    "df_mean = df_scaled.loc[df_scaled.normalized_kmeans!=-1, :].groupby('normalized_kmeans').mean().reset_index()\n",
    "results = pd.DataFrame(columns=['Variable', 'Std'])\n",
    "for column in df_mean.columns[1:]:\n",
    "    results.loc[len(results), :] = [column, np.std(df_mean[column])]\n",
    "selected_columns = list(results.sort_values('Std', ascending=False).head(7).Variable.values) + ['normalized_kmeans']\n",
    "\n",
    "# Plot data\n",
    "tidy = df_scaled[selected_columns].melt(id_vars='normalized_kmeans')\n",
    "fig, ax = plt.subplots(figsize=(15, 5))\n",
    "sns.barplot(x='normalized_kmeans', y='value', hue='variable', data=tidy, palette='Set3')\n",
    "plt.legend(loc='upper right')\n",
    "# plt.savefig(\"dbscan_results.jpg\", dpi=300)"
   ]
  },
  {
   "cell_type": "markdown",
   "metadata": {},
   "source": [
    "### Feature Importance"
   ]
  },
  {
   "cell_type": "code",
   "execution_count": 46,
   "metadata": {},
   "outputs": [],
   "source": [
    "from sklearn.ensemble import RandomForestClassifier\n",
    "y = df.iloc[:,-1]\n",
    "X = df.iloc[:,:-1]\n",
    "clf = RandomForestClassifier(n_estimators=100).fit(X, y)\n",
    "selected_columns = list(pd.DataFrame(np.array([clf.feature_importances_, X.columns]).T, columns=['Importance', 'Feature'])\n",
    "           .sort_values(\"Importance\", ascending=False)\n",
    "           .head(7)\n",
    "           .Feature\n",
    "           .values)"
   ]
  },
  {
   "cell_type": "code",
   "execution_count": 48,
   "metadata": {},
   "outputs": [
    {
     "name": "stderr",
     "output_type": "stream",
     "text": [
      "C:\\Users\\siyue\\Anaconda3\\lib\\site-packages\\scipy\\stats\\stats.py:1713: FutureWarning: Using a non-tuple sequence for multidimensional indexing is deprecated; use `arr[tuple(seq)]` instead of `arr[seq]`. In the future this will be interpreted as an array index, `arr[np.array(seq)]`, which will result either in an error or a different result.\n",
      "  return np.add.reduce(sorted[indexer] * weights, axis=axis) / sumval\n"
     ]
    },
    {
     "data": {
      "text/plain": [
       "<matplotlib.legend.Legend at 0x1a3de7849e8>"
      ]
     },
     "execution_count": 48,
     "metadata": {},
     "output_type": "execute_result"
    },
    {
     "data": {
      "image/png": "[encoded data removed]",
      "text/plain": [
       "<Figure size 1080x360 with 1 Axes>"
      ]
     },
     "metadata": {
      "needs_background": "light"
     },
     "output_type": "display_data"
    }
   ],
   "source": [
    "# Plot data\n",
    "tidy = df_scaled[selected_columns+['normalized_kmeans']].melt(id_vars='normalized_kmeans')\n",
    "fig, ax = plt.subplots(figsize=(15, 5))\n",
    "sns.barplot(x='normalized_kmeans', y='value', hue='variable', data=tidy, palette='Set3')\n",
    "plt.legend(loc='upper right')\n",
    "# plt.savefig('randomforest.jpg', dpi=300)"
   ]
  },
  {
   "cell_type": "markdown",
   "metadata": {},
   "source": [
    "We can see that similar features are selected when comparing to the variance analysis that we did before. Since this method requires a bit more work in the form of validation I would suggest using the variance method described before."
   ]
  },
  {
   "cell_type": "markdown",
   "metadata": {},
   "source": [
    "## Conclusion"
   ]
  },
  {
   "cell_type": "markdown",
   "metadata": {},
   "source": [
    "1. Families are more likely to attend July forth special function and promotion \n",
    "2. Families tend to spend less on tennis. The reason might be the advertisement of tennis is not attractive to families. The company can come up with some promo campaign targeting with families.\n",
    "3. Individuals are more likely to attend promotion 1."
   ]
  }
 ],
 "metadata": {
  "kernelspec": {
   "display_name": "Python 3",
   "language": "python",
   "name": "python3"
  },
  "language_info": {
   "codemirror_mode": {
    "name": "ipython",
    "version": 3
   },
   "file_extension": ".py",
   "mimetype": "text/x-python",
   "name": "python",
   "nbconvert_exporter": "python",
   "pygments_lexer": "ipython3",
   "version": "3.7.0"
  }
 },
 "nbformat": 4,
 "nbformat_minor": 2
}
